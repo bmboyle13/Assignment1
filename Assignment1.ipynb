{
 "cells": [
  {
   "cell_type": "markdown",
   "id": "a4f00c1d",
   "metadata": {},
   "source": [
    "# CS-150\n",
    "## Brandon Boyle\n",
    "### Getting started with markdown\n",
    "#### Version 1"
   ]
  },
  {
   "cell_type": "markdown",
   "id": "bc8e8af4",
   "metadata": {},
   "source": [
    "> First full week of class"
   ]
  },
  {
   "cell_type": "markdown",
   "id": "a385356c",
   "metadata": {},
   "source": [
    "* Course Introduction\n",
    "* Variables and Simple Data Types\n",
    "* Introducing Lists, Tuples\n",
    "* if Statements\n",
    "* Dictionaries\n",
    "* While Loops\n",
    "* Functions\n",
    "* Classes\n",
    "* Numpy"
   ]
  },
  {
   "cell_type": "markdown",
   "id": "b58938fc",
   "metadata": {},
   "source": [
    "1. Assignment 1\n",
    "2. Assignment 2\n",
    "3. Assignment 3\n",
    "4. Assignment 4\n",
    "5. Assignment 5\n",
    "6. Assignment 6\n",
    "7. Assignment 7"
   ]
  },
  {
   "cell_type": "markdown",
   "id": "c800e84f",
   "metadata": {},
   "source": [
    "**I am from Maryland**"
   ]
  },
  {
   "cell_type": "markdown",
   "id": "d770893f",
   "metadata": {},
   "source": [
    "*Arsenal are going to win the EPL*"
   ]
  },
  {
   "cell_type": "raw",
   "id": "26200431",
   "metadata": {},
   "source": [
    "'Testing this out'"
   ]
  },
  {
   "attachments": {},
   "cell_type": "markdown",
   "id": "a0c7340c",
   "metadata": {},
   "source": [
    "<a href=\"https://github.com/bmboyle13?\">Github Account</a>"
   ]
  },
  {
   "attachments": {},
   "cell_type": "markdown",
   "id": "75ed2507",
   "metadata": {},
   "source": [
    "![Bear](https://upload.wikimedia.org/wikipedia/commons/thumb/7/71/2010-kodiak-bear-1.jpg/1200px-2010-kodiak-bear-1.jpg)"
   ]
  },
  {
   "cell_type": "markdown",
   "id": "5cc2c56c",
   "metadata": {},
   "source": []
  }
 ],
 "metadata": {
  "kernelspec": {
   "display_name": "Python 3 (ipykernel)",
   "language": "python",
   "name": "python3"
  },
  "language_info": {
   "codemirror_mode": {
    "name": "ipython",
    "version": 3
   },
   "file_extension": ".py",
   "mimetype": "text/x-python",
   "name": "python",
   "nbconvert_exporter": "python",
   "pygments_lexer": "ipython3",
   "version": "3.9.13"
  }
 },
 "nbformat": 4,
 "nbformat_minor": 5
}
